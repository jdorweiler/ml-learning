{
 "cells": [
  {
   "cell_type": "code",
   "execution_count": 31,
   "metadata": {},
   "outputs": [],
   "source": [
    "# using keras imdb dataset\n",
    "import keras\n",
    "from keras.preprocessing.sequence import pad_sequences\n",
    "from keras.models import Model\n",
    "from keras.layers import Input, concatenate, Flatten, SpatialDropout1D, Embedding, Dense, Dropout, Conv1D, GlobalMaxPool1D\n",
    "from keras.callbacks import ModelCheckpoint\n",
    "from keras.layers.wrappers import Bidirectional\n",
    "\n",
    "import os\n",
    "from sklearn.metrics import roc_auc_score\n",
    "\n",
    "import pandas as pd\n",
    "import matplotlib.pyplot as plt"
   ]
  },
  {
   "cell_type": "code",
   "execution_count": 19,
   "metadata": {},
   "outputs": [],
   "source": [
    "# set up params\n",
    "output = 'model/dense_example'\n",
    "epochs = 4\n",
    "batch = 128\n",
    "\n",
    "n_dim = 64\n",
    "n_words = 5000\n",
    "n_words_skip = 50\n",
    "max_length = 200\n",
    "pad_type = trunc_type = 'pre' # truncate start of reviews\n",
    "\n",
    "n_conv1 = n_conv2 = n_conv3 = 256\n",
    "kernel_1 = 3\n",
    "kernel_2 = 2\n",
    "kernel_3 = 4\n",
    "\n",
    "n_dense = 64\n",
    "dropout = 0.5"
   ]
  },
  {
   "cell_type": "code",
   "execution_count": 20,
   "metadata": {},
   "outputs": [],
   "source": [
    "# load data\n",
    "(x_train, y_train), (x_val, y_val) = keras.datasets.imdb.load_data(num_words=n_words, skip_top=n_words_skip)"
   ]
  },
  {
   "cell_type": "code",
   "execution_count": 21,
   "metadata": {},
   "outputs": [],
   "source": [
    "x_train = pad_sequences(x_train, maxlen=max_length, padding=pad_type, truncating=trunc_type, value=0)\n",
    "x_val = pad_sequences(x_val, maxlen=max_length, padding=pad_type, truncating=trunc_type, value=0)"
   ]
  },
  {
   "cell_type": "code",
   "execution_count": 36,
   "metadata": {},
   "outputs": [],
   "source": [
    "input_layer = Input(shape=(max_length,), dtype='int16', name='input')\n",
    "\n",
    "embedding_layer = Embedding(n_words, n_dim, input_length=max_length, name='embedding')(input_layer)\n",
    "drop_embed_layer = SpatialDropout1D(dropout, name='drop_embed')(embedding_layer)\n",
    "\n",
    "conv_1 = Conv1D(n_conv1, kernel_1, activation='relu', name='conv1')(drop_embed_layer)\n",
    "maxpool_1 = GlobalMaxPool1D(name='maxpool1')(conv_1)\n",
    "\n",
    "conv_2 = Conv1D(n_conv2, kernel_2, activation='relu', name='conv2')(drop_embed_layer)\n",
    "maxpool_2 = GlobalMaxPool1D(name='maxpool2')(conv_2)\n",
    "\n",
    "conv_3 = Conv1D(n_conv3, kernel_3, activation='relu', name='conv3')(drop_embed_layer)\n",
    "maxpool_3 = GlobalMaxPool1D(name='maxpool3')(conv_3)\n",
    "\n",
    "concat = concatenate([maxpool_1, maxpool_2, maxpool_3])\n",
    "\n",
    "dense1 = Dense(n_dense, activation='relu', name='dense1')(concat)\n",
    "drop_dense1 = Dropout(dropout, name='dropout_dense1')(dense1)\n",
    "\n",
    "dense2 = Dense(n_dense, activation='relu', name='dense2')(drop_dense1)\n",
    "drop_dense2 = Dropout(dropout, name='dropout_dense2')(dense2)\n",
    "\n",
    "output = Dense(1, activation='sigmoid', name='output')(drop_dense2)\n",
    "\n",
    "model = Model(input_layer, output)\n",
    "\n",
    "model.compile(loss='binary_crossentropy', optimizer='adam', metrics=['accuracy'])"
   ]
  },
  {
   "cell_type": "code",
   "execution_count": 37,
   "metadata": {},
   "outputs": [
    {
     "name": "stdout",
     "output_type": "stream",
     "text": [
      "__________________________________________________________________________________________________\n",
      "Layer (type)                    Output Shape         Param #     Connected to                     \n",
      "==================================================================================================\n",
      "input (InputLayer)              (None, 200)          0                                            \n",
      "__________________________________________________________________________________________________\n",
      "embedding (Embedding)           (None, 200, 64)      320000      input[0][0]                      \n",
      "__________________________________________________________________________________________________\n",
      "drop_embed (SpatialDropout1D)   (None, 200, 64)      0           embedding[0][0]                  \n",
      "__________________________________________________________________________________________________\n",
      "conv1 (Conv1D)                  (None, 198, 256)     49408       drop_embed[0][0]                 \n",
      "__________________________________________________________________________________________________\n",
      "conv2 (Conv1D)                  (None, 199, 256)     33024       drop_embed[0][0]                 \n",
      "__________________________________________________________________________________________________\n",
      "conv3 (Conv1D)                  (None, 197, 256)     65792       drop_embed[0][0]                 \n",
      "__________________________________________________________________________________________________\n",
      "maxpool1 (GlobalMaxPooling1D)   (None, 256)          0           conv1[0][0]                      \n",
      "__________________________________________________________________________________________________\n",
      "maxpool2 (GlobalMaxPooling1D)   (None, 256)          0           conv2[0][0]                      \n",
      "__________________________________________________________________________________________________\n",
      "maxpool3 (GlobalMaxPooling1D)   (None, 256)          0           conv3[0][0]                      \n",
      "__________________________________________________________________________________________________\n",
      "concatenate_6 (Concatenate)     (None, 768)          0           maxpool1[0][0]                   \n",
      "                                                                 maxpool2[0][0]                   \n",
      "                                                                 maxpool3[0][0]                   \n",
      "__________________________________________________________________________________________________\n",
      "dense1 (Dense)                  (None, 64)           49216       concatenate_6[0][0]              \n",
      "__________________________________________________________________________________________________\n",
      "dropout_dense1 (Dropout)        (None, 64)           0           dense1[0][0]                     \n",
      "__________________________________________________________________________________________________\n",
      "dense2 (Dense)                  (None, 64)           4160        dropout_dense1[0][0]             \n",
      "__________________________________________________________________________________________________\n",
      "dropout_dense2 (Dropout)        (None, 64)           0           dense2[0][0]                     \n",
      "__________________________________________________________________________________________________\n",
      "output (Dense)                  (None, 1)            65          dropout_dense2[0][0]             \n",
      "==================================================================================================\n",
      "Total params: 521,665\n",
      "Trainable params: 521,665\n",
      "Non-trainable params: 0\n",
      "__________________________________________________________________________________________________\n"
     ]
    }
   ],
   "source": [
    "model.summary()"
   ]
  },
  {
   "cell_type": "code",
   "execution_count": 38,
   "metadata": {},
   "outputs": [
    {
     "name": "stdout",
     "output_type": "stream",
     "text": [
      "Train on 25000 samples, validate on 25000 samples\n",
      "Epoch 1/4\n",
      "25000/25000 [==============================] - 114s 5ms/step - loss: 0.6545 - acc: 0.5848 - val_loss: 0.4717 - val_acc: 0.7970\n",
      "Epoch 2/4\n",
      "25000/25000 [==============================] - 110s 4ms/step - loss: 0.4426 - acc: 0.7933 - val_loss: 0.3559 - val_acc: 0.8526\n",
      "Epoch 3/4\n",
      "25000/25000 [==============================] - 132s 5ms/step - loss: 0.3590 - acc: 0.8467 - val_loss: 0.3349 - val_acc: 0.8562\n",
      "Epoch 4/4\n",
      "25000/25000 [==============================] - 103s 4ms/step - loss: 0.3163 - acc: 0.8658 - val_loss: 0.3242 - val_acc: 0.8640\n"
     ]
    },
    {
     "data": {
      "text/plain": [
       "<keras.callbacks.History at 0x126e85eb8>"
      ]
     },
     "execution_count": 38,
     "metadata": {},
     "output_type": "execute_result"
    }
   ],
   "source": [
    "model.fit(\n",
    "    x_train, \n",
    "    y_train,\n",
    "    epochs=epochs, \n",
    "    batch_size=batch, \n",
    "    verbose=1, \n",
    "    validation_data=(x_val, y_val))"
   ]
  },
  {
   "cell_type": "code",
   "execution_count": 39,
   "metadata": {},
   "outputs": [
    {
     "data": {
      "image/png": "[encoded data removed]",
      "text/plain": [
       "<Figure size 432x288 with 1 Axes>"
      ]
     },
     "metadata": {},
     "output_type": "display_data"
    }
   ],
   "source": [
    "plt.hist(model.predict(x_val))\n",
    "_ = plt.axvline(x=0.5, color='orange')"
   ]
  },
  {
   "cell_type": "code",
   "execution_count": null,
   "metadata": {},
   "outputs": [],
   "source": []
  }
 ],
 "metadata": {
  "kernelspec": {
   "display_name": "Python 3",
   "language": "python",
   "name": "python3"
  },
  "language_info": {
   "codemirror_mode": {
    "name": "ipython",
    "version": 3
   },
   "file_extension": ".py",
   "mimetype": "text/x-python",
   "name": "python",
   "nbconvert_exporter": "python",
   "pygments_lexer": "ipython3",
   "version": "3.6.5"
  }
 },
 "nbformat": 4,
 "nbformat_minor": 2
}

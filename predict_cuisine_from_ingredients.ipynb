{
 "cells": [
  {
   "cell_type": "code",
   "execution_count": 338,
   "metadata": {},
   "outputs": [],
   "source": [
    "import numpy as np\n",
    "np.set_printoptions(threshold=np.nan)\n",
    "import keras\n",
    "from keras.models import Sequential\n",
    "from keras.layers import Conv1D, GlobalMaxPool1D, Dropout, Dense\n",
    "from keras.utils import np_utils, to_categorical\n",
    "from keras.preprocessing.text import Tokenizer\n",
    "from keras.preprocessing import sequence\n",
    "\n",
    "from sklearn.preprocessing import LabelEncoder\n",
    "from sklearn.preprocessing import OneHotEncoder\n",
    "\n",
    "from gensim.models.word2vec import Word2Vec\n",
    "\n",
    "import pandas as pd\n",
    "%matplotlib inline"
   ]
  },
  {
   "cell_type": "code",
   "execution_count": 352,
   "metadata": {},
   "outputs": [
    {
     "name": "stdout",
     "output_type": "stream",
     "text": [
      "       cuisine     id                                        ingredients\n",
      "0        greek  10259  [romaine lettuce, black olives, grape tomatoes...\n",
      "1  southern_us  25693  [plain flour, ground pepper, salt, tomatoes, g...\n",
      "2     filipino  20130  [eggs, pepper, salt, mayonaise, cooking oil, g...\n",
      "3       indian  22213                [water, vegetable oil, wheat, salt]\n",
      "4       indian  13162  [black pepper, shallots, cornflour, cayenne pe...\n"
     ]
    }
   ],
   "source": [
    "# load data\n",
    "data = pd.read_json('~/Desktop/datasets/recipes/train.json')\n",
    "print(data.head())\n",
    "\n",
    "unique_ingredients = {}\n",
    "max_ingredients = 0\n",
    "\n",
    "# join multi word ingredients, easier to encode later\n",
    "for i, row in data.iterrows():\n",
    "    data.at[i, 'ingredients'] = [x.replace(\" \", \"_\") for x in row['ingredients']]\n",
    "    data.at[i, 'total_ingredients'] = len(row['ingredients'])\n",
    "    \n",
    "    if len(row['ingredients']) > max_ingredients:\n",
    "        max_ingredients = len(row['ingredients'])\n",
    "    \n",
    "    for x in row['ingredients']:\n",
    "        unique_ingredients[x.replace(\" \", \"_\")] = 1"
   ]
  },
  {
   "cell_type": "code",
   "execution_count": 341,
   "metadata": {},
   "outputs": [],
   "source": [
    "def get_one_hot(data):\n",
    "    encoder = LabelEncoder()\n",
    "    int_encoded = encoder.fit_transform(list(data))\n",
    "    int_encoded = int_encoded.reshape(len(int_encoded), 1)\n",
    "    onehot_encoded = OneHotEncoder(sparse=False)\n",
    "    onehot_encoded = onehot_encoded.fit_transform(int_encoded)\n",
    "    return onehot_encoded\n",
    "\n",
    "y_train = get_one_hot(data['cuisine'])\n",
    "\n",
    "words = [[x] for x in list(unique_ingredients.keys())]\n",
    "model = Word2Vec(words, min_count=1)\n",
    "data['ingredients'] = data['ingredients'].astype(object)\n",
    "\n",
    "data['ingredient_vec'] = pd.Series([np.zeros(64)], index=data.index)\n",
    "\n",
    "# convert ingredients into a single 1d vector by adding word vectors for each ingredient\n",
    "for i, row in data.iterrows():\n",
    "    wordvec = np.zeros(100)\n",
    "    for ing in row['ingredients']:\n",
    "        wordvec += model.wv[ing]\n",
    "    data.at[i, 'ingredient_vec'] = wordvec"
   ]
  },
  {
   "cell_type": "code",
   "execution_count": 342,
   "metadata": {},
   "outputs": [
    {
     "data": {
      "text/html": [
       "<div>\n",
       "<style scoped>\n",
       "    .dataframe tbody tr th:only-of-type {\n",
       "        vertical-align: middle;\n",
       "    }\n",
       "\n",
       "    .dataframe tbody tr th {\n",
       "        vertical-align: top;\n",
       "    }\n",
       "\n",
       "    .dataframe thead th {\n",
       "        text-align: right;\n",
       "    }\n",
       "</style>\n",
       "<table border=\"1\" class=\"dataframe\">\n",
       "  <thead>\n",
       "    <tr style=\"text-align: right;\">\n",
       "      <th></th>\n",
       "      <th>cuisine</th>\n",
       "      <th>id</th>\n",
       "      <th>ingredients</th>\n",
       "      <th>total_ingredients</th>\n",
       "      <th>ingredient_vec</th>\n",
       "      <th>ingredient</th>\n",
       "    </tr>\n",
       "  </thead>\n",
       "  <tbody>\n",
       "    <tr>\n",
       "      <th>0</th>\n",
       "      <td>greek</td>\n",
       "      <td>10259</td>\n",
       "      <td>[romaine_lettuce, black_olives, grape_tomatoes...</td>\n",
       "      <td>9.0</td>\n",
       "      <td>[-0.012676712649408728, -0.0064097283175215125...</td>\n",
       "      <td>NaN</td>\n",
       "    </tr>\n",
       "    <tr>\n",
       "      <th>1</th>\n",
       "      <td>southern_us</td>\n",
       "      <td>25693</td>\n",
       "      <td>[plain_flour, ground_pepper, salt, tomatoes, g...</td>\n",
       "      <td>11.0</td>\n",
       "      <td>[-0.00018075754633173347, 0.008255297230789438...</td>\n",
       "      <td>NaN</td>\n",
       "    </tr>\n",
       "    <tr>\n",
       "      <th>2</th>\n",
       "      <td>filipino</td>\n",
       "      <td>20130</td>\n",
       "      <td>[eggs, pepper, salt, mayonaise, cooking_oil, g...</td>\n",
       "      <td>12.0</td>\n",
       "      <td>[-0.006607251561945304, 0.008808402111753821, ...</td>\n",
       "      <td>NaN</td>\n",
       "    </tr>\n",
       "    <tr>\n",
       "      <th>3</th>\n",
       "      <td>indian</td>\n",
       "      <td>22213</td>\n",
       "      <td>[water, vegetable_oil, wheat, salt]</td>\n",
       "      <td>4.0</td>\n",
       "      <td>[-0.006275213891058229, 0.0011546076857484877,...</td>\n",
       "      <td>NaN</td>\n",
       "    </tr>\n",
       "    <tr>\n",
       "      <th>4</th>\n",
       "      <td>indian</td>\n",
       "      <td>13162</td>\n",
       "      <td>[black_pepper, shallots, cornflour, cayenne_pe...</td>\n",
       "      <td>20.0</td>\n",
       "      <td>[-0.007589720888063312, -0.020675597013905644,...</td>\n",
       "      <td>NaN</td>\n",
       "    </tr>\n",
       "  </tbody>\n",
       "</table>\n",
       "</div>"
      ],
      "text/plain": [
       "       cuisine     id                                        ingredients  \\\n",
       "0        greek  10259  [romaine_lettuce, black_olives, grape_tomatoes...   \n",
       "1  southern_us  25693  [plain_flour, ground_pepper, salt, tomatoes, g...   \n",
       "2     filipino  20130  [eggs, pepper, salt, mayonaise, cooking_oil, g...   \n",
       "3       indian  22213                [water, vegetable_oil, wheat, salt]   \n",
       "4       indian  13162  [black_pepper, shallots, cornflour, cayenne_pe...   \n",
       "\n",
       "   total_ingredients                                     ingredient_vec  \\\n",
       "0                9.0  [-0.012676712649408728, -0.0064097283175215125...   \n",
       "1               11.0  [-0.00018075754633173347, 0.008255297230789438...   \n",
       "2               12.0  [-0.006607251561945304, 0.008808402111753821, ...   \n",
       "3                4.0  [-0.006275213891058229, 0.0011546076857484877,...   \n",
       "4               20.0  [-0.007589720888063312, -0.020675597013905644,...   \n",
       "\n",
       "   ingredient  \n",
       "0         NaN  \n",
       "1         NaN  \n",
       "2         NaN  \n",
       "3         NaN  \n",
       "4         NaN  "
      ]
     },
     "execution_count": 342,
     "metadata": {},
     "output_type": "execute_result"
    }
   ],
   "source": [
    "data.head()"
   ]
  },
  {
   "cell_type": "code",
   "execution_count": 348,
   "metadata": {},
   "outputs": [
    {
     "name": "stdout",
     "output_type": "stream",
     "text": [
      "_________________________________________________________________\n",
      "Layer (type)                 Output Shape              Param #   \n",
      "=================================================================\n",
      "dense_39 (Dense)             (None, 512)               51712     \n",
      "_________________________________________________________________\n",
      "dense_40 (Dense)             (None, 512)               262656    \n",
      "_________________________________________________________________\n",
      "dropout_1 (Dropout)          (None, 512)               0         \n",
      "_________________________________________________________________\n",
      "dense_41 (Dense)             (None, 20)                10260     \n",
      "=================================================================\n",
      "Total params: 324,628\n",
      "Trainable params: 324,628\n",
      "Non-trainable params: 0\n",
      "_________________________________________________________________\n"
     ]
    }
   ],
   "source": [
    "model = Sequential()\n",
    "x_train = data['ingredient_vec']\n",
    "input_dim = len(x_train[0])\n",
    "\n",
    "# input\n",
    "model.add(Dense(512, input_dim=input_dim, activation='relu'))\n",
    "model.add(Dense(512, input_dim=input_dim, activation='relu'))\n",
    "model.add(Dropout(0.2))\n",
    "\n",
    "# output\n",
    "model.add(Dense(len(y_train[0]), activation='sigmoid'))\n",
    "\n",
    "model.compile(loss='categorical_crossentropy', optimizer='adam', metrics=['accuracy'])\n",
    "model.summary()"
   ]
  },
  {
   "cell_type": "code",
   "execution_count": 349,
   "metadata": {},
   "outputs": [
    {
     "data": {
      "text/plain": [
       "(39774,)"
      ]
     },
     "execution_count": 349,
     "metadata": {},
     "output_type": "execute_result"
    }
   ],
   "source": [
    "x_train.shape"
   ]
  },
  {
   "cell_type": "code",
   "execution_count": 353,
   "metadata": {},
   "outputs": [
    {
     "name": "stdout",
     "output_type": "stream",
     "text": [
      "Train on 35796 samples, validate on 3978 samples\n",
      "Epoch 1/10\n",
      "35796/35796 [==============================] - 5s 151us/step - loss: 0.6811 - acc: 0.7859 - val_loss: 1.3476 - val_acc: 0.6322\n",
      "Epoch 2/10\n",
      "35796/35796 [==============================] - 5s 145us/step - loss: 0.6482 - acc: 0.7982 - val_loss: 1.3738 - val_acc: 0.6239\n",
      "Epoch 3/10\n",
      "35796/35796 [==============================] - 5s 148us/step - loss: 0.6114 - acc: 0.8085 - val_loss: 1.3822 - val_acc: 0.6295\n",
      "Epoch 4/10\n",
      "35796/35796 [==============================] - 6s 160us/step - loss: 0.5791 - acc: 0.8181 - val_loss: 1.4355 - val_acc: 0.6365\n",
      "Epoch 5/10\n",
      "35796/35796 [==============================] - 5s 151us/step - loss: 0.5491 - acc: 0.8274 - val_loss: 1.4831 - val_acc: 0.6239\n",
      "Epoch 6/10\n",
      "35796/35796 [==============================] - 5s 151us/step - loss: 0.5217 - acc: 0.8348 - val_loss: 1.4845 - val_acc: 0.6272\n",
      "Epoch 7/10\n",
      "35796/35796 [==============================] - 6s 161us/step - loss: 0.4944 - acc: 0.8421 - val_loss: 1.5334 - val_acc: 0.6254\n",
      "Epoch 8/10\n",
      "35796/35796 [==============================] - 5s 153us/step - loss: 0.4681 - acc: 0.8520 - val_loss: 1.5572 - val_acc: 0.6242\n",
      "Epoch 9/10\n",
      "35796/35796 [==============================] - 7s 192us/step - loss: 0.4438 - acc: 0.8590 - val_loss: 1.5992 - val_acc: 0.6312\n",
      "Epoch 10/10\n",
      "35796/35796 [==============================] - 11s 316us/step - loss: 0.4146 - acc: 0.8678 - val_loss: 1.6304 - val_acc: 0.6269\n"
     ]
    },
    {
     "data": {
      "text/plain": [
       "<keras.callbacks.History at 0x170e636d8>"
      ]
     },
     "execution_count": 353,
     "metadata": {},
     "output_type": "execute_result"
    }
   ],
   "source": [
    "model.fit(\n",
    "    np.array(list(x_train)), \n",
    "    y_train, \n",
    "    validation_split=0.1,\n",
    "    shuffle=True,\n",
    "    epochs=10\n",
    ")"
   ]
  },
  {
   "cell_type": "code",
   "execution_count": null,
   "metadata": {},
   "outputs": [],
   "source": []
  }
 ],
 "metadata": {
  "kernelspec": {
   "display_name": "Python 3",
   "language": "python",
   "name": "python3"
  },
  "language_info": {
   "codemirror_mode": {
    "name": "ipython",
    "version": 3
   },
   "file_extension": ".py",
   "mimetype": "text/x-python",
   "name": "python",
   "nbconvert_exporter": "python",
   "pygments_lexer": "ipython3",
   "version": "3.6.5"
  }
 },
 "nbformat": 4,
 "nbformat_minor": 2
}
